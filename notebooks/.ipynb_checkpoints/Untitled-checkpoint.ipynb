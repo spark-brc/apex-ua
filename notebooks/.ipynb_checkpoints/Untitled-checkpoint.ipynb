{
 "cells": [
  {
   "cell_type": "code",
   "execution_count": 2,
   "id": "24304ca8",
   "metadata": {},
   "outputs": [],
   "source": [
    "import os\n",
    "import sys\n",
    "import datetime\n",
    "import pandas as pd"
   ]
  },
  {
   "cell_type": "code",
   "execution_count": 5,
   "id": "62439388",
   "metadata": {},
   "outputs": [],
   "source": [
    "path = os.path.abspath(os.path.join(os.getcwd(), os.pardir))\n",
    "sys.path.insert(1, path)"
   ]
  },
  {
   "cell_type": "code",
   "execution_count": 4,
   "id": "7a1d89f6",
   "metadata": {},
   "outputs": [],
   "source": [
    "from apexua import handler, modules"
   ]
  },
  {
   "cell_type": "code",
   "execution_count": 5,
   "id": "fb1e96ae",
   "metadata": {},
   "outputs": [],
   "source": [
    "wd = \"d:/Projects/Tools/APEX-CUTE/Analysis/test01/UA_Analysis/\""
   ]
  },
  {
   "cell_type": "code",
   "execution_count": 6,
   "id": "53e20a15",
   "metadata": {},
   "outputs": [],
   "source": [
    "uam1 = handler.uaInit(wd)"
   ]
  },
  {
   "cell_type": "code",
   "execution_count": 7,
   "id": "5b7269ba",
   "metadata": {},
   "outputs": [
    {
     "data": {
      "text/html": [
       "<div>\n",
       "<style scoped>\n",
       "    .dataframe tbody tr th:only-of-type {\n",
       "        vertical-align: middle;\n",
       "    }\n",
       "\n",
       "    .dataframe tbody tr th {\n",
       "        vertical-align: top;\n",
       "    }\n",
       "\n",
       "    .dataframe thead th {\n",
       "        text-align: right;\n",
       "    }\n",
       "</style>\n",
       "<table border=\"1\" class=\"dataframe\">\n",
       "  <thead>\n",
       "    <tr style=\"text-align: right;\">\n",
       "      <th></th>\n",
       "      <th>val</th>\n",
       "    </tr>\n",
       "    <tr>\n",
       "      <th>idx</th>\n",
       "      <th></th>\n",
       "    </tr>\n",
       "  </thead>\n",
       "  <tbody>\n",
       "    <tr>\n",
       "      <th>WD</th>\n",
       "      <td>D:\\Projects\\Tools\\APEX-CUTE\\Analysis\\test01\\UA...</td>\n",
       "    </tr>\n",
       "    <tr>\n",
       "      <th>Mode</th>\n",
       "      <td>DREAM</td>\n",
       "    </tr>\n",
       "    <tr>\n",
       "      <th>Likelihood</th>\n",
       "      <td>Gaussian likelihood: MEO</td>\n",
       "    </tr>\n",
       "    <tr>\n",
       "      <th>NumberChains</th>\n",
       "      <td>10</td>\n",
       "    </tr>\n",
       "    <tr>\n",
       "      <th>NumberRuns</th>\n",
       "      <td>1000</td>\n",
       "    </tr>\n",
       "    <tr>\n",
       "      <th>CalibrationStartDate</th>\n",
       "      <td>1/1/2000</td>\n",
       "    </tr>\n",
       "    <tr>\n",
       "      <th>CalibrationEndDate</th>\n",
       "      <td>12/31/2003</td>\n",
       "    </tr>\n",
       "    <tr>\n",
       "      <th>ObservationFile</th>\n",
       "      <td>rch</td>\n",
       "    </tr>\n",
       "    <tr>\n",
       "      <th>ObservationType</th>\n",
       "      <td>Flow(m3/s)</td>\n",
       "    </tr>\n",
       "    <tr>\n",
       "      <th>ReachIDs</th>\n",
       "      <td>2</td>\n",
       "    </tr>\n",
       "    <tr>\n",
       "      <th>TimeStepObs</th>\n",
       "      <td>month</td>\n",
       "    </tr>\n",
       "    <tr>\n",
       "      <th>Version</th>\n",
       "      <td>0.0.0</td>\n",
       "    </tr>\n",
       "  </tbody>\n",
       "</table>\n",
       "</div>"
      ],
      "text/plain": [
       "                                                                    val\n",
       "idx                                                                    \n",
       "WD                    D:\\Projects\\Tools\\APEX-CUTE\\Analysis\\test01\\UA...\n",
       "Mode                                                              DREAM\n",
       "Likelihood                                     Gaussian likelihood: MEO\n",
       "NumberChains                                                         10\n",
       "NumberRuns                                                         1000\n",
       "CalibrationStartDate                                           1/1/2000\n",
       "CalibrationEndDate                                           12/31/2003\n",
       "ObservationFile                                                     rch\n",
       "ObservationType                                              Flow(m3/s)\n",
       "ReachIDs                                                              2\n",
       "TimeStepObs                                                       month\n",
       "Version                                                           0.0.0"
      ]
     },
     "execution_count": 7,
     "metadata": {},
     "output_type": "execute_result"
    }
   ],
   "source": [
    "info = uam1.read_ua_conf()\n",
    "info.loc[\"ReachIDs\", \"val\"] =2\n",
    "info"
   ]
  },
  {
   "cell_type": "code",
   "execution_count": null,
   "id": "e5fb7134",
   "metadata": {},
   "outputs": [],
   "source": []
  },
  {
   "cell_type": "code",
   "execution_count": null,
   "id": "8ae68bc7",
   "metadata": {},
   "outputs": [
    {
     "name": "stdout",
     "output_type": "stream",
     "text": [
      "Initializing the  DiffeRential Evolution Adaptive Metropolis (DREAM) algorithm  with  1000  repetitions\n",
      "The objective function will be maximized\n",
      "Starting the DREAM algotrithm with 1000 repetitions...\n",
      "Initialize  10  chain(s)...\n"
     ]
    }
   ],
   "source": [
    "modules.run_dream(info)"
   ]
  },
  {
   "cell_type": "code",
   "execution_count": null,
   "id": "3a322cd7",
   "metadata": {},
   "outputs": [],
   "source": []
  }
 ],
 "metadata": {
  "kernelspec": {
   "display_name": "Python 3 (ipykernel)",
   "language": "python",
   "name": "python3"
  },
  "language_info": {
   "codemirror_mode": {
    "name": "ipython",
    "version": 3
   },
   "file_extension": ".py",
   "mimetype": "text/x-python",
   "name": "python",
   "nbconvert_exporter": "python",
   "pygments_lexer": "ipython3",
   "version": "3.10.10"
  }
 },
 "nbformat": 4,
 "nbformat_minor": 5
}
