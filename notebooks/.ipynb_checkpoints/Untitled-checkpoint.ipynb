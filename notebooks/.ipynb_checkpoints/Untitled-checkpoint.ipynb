{
 "cells": [
  {
   "cell_type": "code",
   "execution_count": 1,
   "id": "d219e4b2",
   "metadata": {},
   "outputs": [],
   "source": [
    "import os\n",
    "import sys"
   ]
  },
  {
   "cell_type": "code",
   "execution_count": 2,
   "id": "f2892bf6",
   "metadata": {},
   "outputs": [],
   "source": [
    "sys.path.append(os.path.join(\"..\", \"dependencies\"))"
   ]
  },
  {
   "cell_type": "code",
   "execution_count": 3,
   "id": "6b28f412",
   "metadata": {},
   "outputs": [],
   "source": [
    "from apexua import handler"
   ]
  },
  {
   "cell_type": "code",
   "execution_count": 4,
   "id": "2ff33fca",
   "metadata": {},
   "outputs": [],
   "source": [
    "wd = \"d:/Projects/Tools/APEX-CUTE/Analysis/test01/UA_Analysis/\""
   ]
  },
  {
   "cell_type": "code",
   "execution_count": 5,
   "id": "952d31ac",
   "metadata": {},
   "outputs": [],
   "source": [
    "uam1 = handler.uaInit(wd)"
   ]
  },
  {
   "cell_type": "code",
   "execution_count": 6,
   "id": "57bbe4c6",
   "metadata": {},
   "outputs": [
    {
     "data": {
      "text/html": [
       "<div>\n",
       "<style scoped>\n",
       "    .dataframe tbody tr th:only-of-type {\n",
       "        vertical-align: middle;\n",
       "    }\n",
       "\n",
       "    .dataframe tbody tr th {\n",
       "        vertical-align: top;\n",
       "    }\n",
       "\n",
       "    .dataframe thead th {\n",
       "        text-align: right;\n",
       "    }\n",
       "</style>\n",
       "<table border=\"1\" class=\"dataframe\">\n",
       "  <thead>\n",
       "    <tr style=\"text-align: right;\">\n",
       "      <th></th>\n",
       "      <th>val</th>\n",
       "    </tr>\n",
       "    <tr>\n",
       "      <th>idx</th>\n",
       "      <th></th>\n",
       "    </tr>\n",
       "  </thead>\n",
       "  <tbody>\n",
       "    <tr>\n",
       "      <th>WD</th>\n",
       "      <td>D:\\Projects\\Tools\\APEX-CUTE\\Analysis\\test01\\UA...</td>\n",
       "    </tr>\n",
       "    <tr>\n",
       "      <th>Mode</th>\n",
       "      <td>DREAM</td>\n",
       "    </tr>\n",
       "    <tr>\n",
       "      <th>Likelihood</th>\n",
       "      <td>Gaussian likelihood: MEO</td>\n",
       "    </tr>\n",
       "    <tr>\n",
       "      <th>NumberChains</th>\n",
       "      <td>10</td>\n",
       "    </tr>\n",
       "    <tr>\n",
       "      <th>NumberRuns</th>\n",
       "      <td>1000</td>\n",
       "    </tr>\n",
       "    <tr>\n",
       "      <th>CalibrationStartDate</th>\n",
       "      <td>1/1/2000</td>\n",
       "    </tr>\n",
       "    <tr>\n",
       "      <th>CalibrationEndDate</th>\n",
       "      <td>12/31/2003</td>\n",
       "    </tr>\n",
       "    <tr>\n",
       "      <th>ObservationFile</th>\n",
       "      <td>rch</td>\n",
       "    </tr>\n",
       "    <tr>\n",
       "      <th>ObservationType</th>\n",
       "      <td>Flow(m3/s)</td>\n",
       "    </tr>\n",
       "    <tr>\n",
       "      <th>ReachIDs</th>\n",
       "      <td>NaN</td>\n",
       "    </tr>\n",
       "    <tr>\n",
       "      <th>TimeStepObs</th>\n",
       "      <td>month</td>\n",
       "    </tr>\n",
       "    <tr>\n",
       "      <th>Version</th>\n",
       "      <td>0.0.0</td>\n",
       "    </tr>\n",
       "  </tbody>\n",
       "</table>\n",
       "</div>"
      ],
      "text/plain": [
       "                                                                    val\n",
       "idx                                                                    \n",
       "WD                    D:\\Projects\\Tools\\APEX-CUTE\\Analysis\\test01\\UA...\n",
       "Mode                                                              DREAM\n",
       "Likelihood                                     Gaussian likelihood: MEO\n",
       "NumberChains                                                         10\n",
       "NumberRuns                                                         1000\n",
       "CalibrationStartDate                                           1/1/2000\n",
       "CalibrationEndDate                                           12/31/2003\n",
       "ObservationFile                                                     rch\n",
       "ObservationType                                              Flow(m3/s)\n",
       "ReachIDs                                                            NaN\n",
       "TimeStepObs                                                       month\n",
       "Version                                                           0.0.0"
      ]
     },
     "execution_count": 6,
     "metadata": {},
     "output_type": "execute_result"
    }
   ],
   "source": [
    "info = uam1.read_ua_conf()\n",
    "info"
   ]
  },
  {
   "cell_type": "code",
   "execution_count": 9,
   "id": "97173143",
   "metadata": {},
   "outputs": [],
   "source": [
    "info = ua_set_info()"
   ]
  },
  {
   "cell_type": "code",
   "execution_count": null,
   "id": "46a36d5d",
   "metadata": {},
   "outputs": [],
   "source": []
  },
  {
   "cell_type": "code",
   "execution_count": 11,
   "id": "e19de0c1",
   "metadata": {},
   "outputs": [
    {
     "ename": "TypeError",
     "evalue": "cannot unpack non-iterable NoneType object",
     "output_type": "error",
     "traceback": [
      "\u001b[1;31m---------------------------------------------------------------------------\u001b[0m",
      "\u001b[1;31mTypeError\u001b[0m                                 Traceback (most recent call last)",
      "Cell \u001b[1;32mIn[11], line 2\u001b[0m\n\u001b[0;32m      1\u001b[0m rch_file \u001b[38;5;241m=\u001b[39m \u001b[38;5;124m\"\u001b[39m\u001b[38;5;124mSITE2.RCH\u001b[39m\u001b[38;5;124m\"\u001b[39m\n\u001b[1;32m----> 2\u001b[0m stdate_, eddate_, sim_ts \u001b[38;5;241m=\u001b[39m get_start_end_step()\n\u001b[0;32m      3\u001b[0m channels \u001b[38;5;241m=\u001b[39m info\u001b[38;5;241m.\u001b[39mloc[\u001b[38;5;124m\"\u001b[39m\u001b[38;5;124mReachIDs\u001b[39m\u001b[38;5;124m\"\u001b[39m,\u001b[38;5;124m\"\u001b[39m\u001b[38;5;124mval\u001b[39m\u001b[38;5;124m\"\u001b[39m]\n\u001b[0;32m      4\u001b[0m \u001b[38;5;66;03m# FIXME: import APEXCON.read() causes error\u001b[39;00m\n",
      "\u001b[1;31mTypeError\u001b[0m: cannot unpack non-iterable NoneType object"
     ]
    }
   ],
   "source": [
    "rch_file = \"SITE2.RCH\"\n",
    "stdate_, eddate_, sim_ts = get_start_end_step()\n",
    "channels = info.loc[\"ReachIDs\",\"val\"]\n",
    "# FIXME: import APEXCON.read() causes error\n",
    "start_day = stdate_\n",
    "cali_start_day = info.loc[\"CalibrationStartDate\",\"val\"]\n",
    "cali_end_day = info.loc[\"CalibrationEndDate\",\"val\"]\n",
    "for i in channels:\n",
    "    sim_stf = pd.read_csv(\n",
    "                    rch_file,\n",
    "                    delim_whitespace=True,\n",
    "                    skiprows=9,\n",
    "                    usecols=[0, 1, 8],\n",
    "                    names=[\"idx\", \"sub\", \"str_sim\"],\n",
    "                    index_col=0)\n",
    "    sim_stf = sim_stf.loc[\"REACH\"]\n",
    "    sim_stf_f = sim_stf.loc[sim_stf[\"sub\"] == int(i)]\n",
    "    sim_stf_f = sim_stf_f.drop(['sub'], axis=1)\n",
    "    sim_stf_f.index = pd.date_range(start_day, periods=len(sim_stf_f.str_sim))\n",
    "    sim_stf_f = sim_stf_f[cali_start_day:cali_end_day]\n"
   ]
  },
  {
   "cell_type": "code",
   "execution_count": null,
   "id": "9a37d8b7",
   "metadata": {
    "collapsed": true
   },
   "outputs": [],
   "source": []
  },
  {
   "cell_type": "code",
   "execution_count": 10,
   "id": "b0e9d55f",
   "metadata": {},
   "outputs": [],
   "source": [
    "def get_start_end_step():\n",
    "    if os.path.isfile(\"APEXCONT.DAT\"):\n",
    "        with open('APEXCONT.DAT', \"r\") as f:\n",
    "            data = [x.strip().split() for x in f if x.strip()]\n",
    "        numyr = int(data[0][0])\n",
    "        styr = int(data[0][1])\n",
    "        stmon = int(data[0][2])\n",
    "        stday = int(data[0][3])\n",
    "        ptcode = int(data[0][4])\n",
    "        edyr = styr + numyr -1\n",
    "        stdate = datetime.datetime(styr, stmon, 1) + datetime.timedelta(stday - 1)\n",
    "        eddate = datetime.datetime(edyr, 12, 31)\n",
    "        stdate_ = stdate.strftime(\"%m/%d/%Y\")\n",
    "        eddate_ = eddate.strftime(\"%m/%d/%Y\")\n",
    "        return stdate_, eddate_, ptcode"
   ]
  },
  {
   "cell_type": "code",
   "execution_count": null,
   "id": "d2e7b36e",
   "metadata": {},
   "outputs": [],
   "source": []
  }
 ],
 "metadata": {
  "kernelspec": {
   "display_name": "Python 3 (ipykernel)",
   "language": "python",
   "name": "python3"
  },
  "language_info": {
   "codemirror_mode": {
    "name": "ipython",
    "version": 3
   },
   "file_extension": ".py",
   "mimetype": "text/x-python",
   "name": "python",
   "nbconvert_exporter": "python",
   "pygments_lexer": "ipython3",
   "version": "3.10.10"
  }
 },
 "nbformat": 4,
 "nbformat_minor": 5
}
