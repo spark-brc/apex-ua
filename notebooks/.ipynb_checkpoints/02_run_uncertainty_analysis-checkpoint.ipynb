{
 "cells": [
  {
   "cell_type": "markdown",
   "id": "c42460e8",
   "metadata": {},
   "source": [
    "## Import necessary libraries"
   ]
  },
  {
   "cell_type": "code",
   "execution_count": 1,
   "id": "24304ca8",
   "metadata": {},
   "outputs": [],
   "source": [
    "import os\n",
    "import sys\n",
    "import datetime\n",
    "import pandas as pd"
   ]
  },
  {
   "cell_type": "markdown",
   "id": "f38cabd2",
   "metadata": {},
   "source": [
    "*Note: The module \"apex-ua\" is not publicly available now, but will be soon.*\n",
    "- So, we need to import it by setting a path to the module folder."
   ]
  },
  {
   "cell_type": "code",
   "execution_count": 2,
   "id": "59c83805",
   "metadata": {},
   "outputs": [],
   "source": [
    "path = os.path.abspath(os.path.join(os.getcwd(), os.pardir))\n",
    "sys.path.insert(1, path)"
   ]
  },
  {
   "cell_type": "code",
   "execution_count": 3,
   "id": "7a1d89f6",
   "metadata": {},
   "outputs": [],
   "source": [
    "from apexua import handler, modules, analyzer"
   ]
  },
  {
   "cell_type": "markdown",
   "id": "861e82a9",
   "metadata": {},
   "source": [
    "## Specify a path to the working directory"
   ]
  },
  {
   "cell_type": "code",
   "execution_count": 7,
   "id": "fb1e96ae",
   "metadata": {},
   "outputs": [],
   "source": [
    "# set a path to UA_Analysis folder\n",
    "wd = \"d:/Projects/Tools/APEX-CUTE/Analysis/test01/UA_Analysis/\""
   ]
  },
  {
   "cell_type": "code",
   "execution_count": 9,
   "id": "53e20a15",
   "metadata": {},
   "outputs": [],
   "source": [
    "# initiate UA analysis\n",
    "uam1 = handler.uaInit(wd)"
   ]
  },
  {
   "cell_type": "code",
   "execution_count": 10,
   "id": "5b7269ba",
   "metadata": {},
   "outputs": [
    {
     "data": {
      "text/html": [
       "<div>\n",
       "<style scoped>\n",
       "    .dataframe tbody tr th:only-of-type {\n",
       "        vertical-align: middle;\n",
       "    }\n",
       "\n",
       "    .dataframe tbody tr th {\n",
       "        vertical-align: top;\n",
       "    }\n",
       "\n",
       "    .dataframe thead th {\n",
       "        text-align: right;\n",
       "    }\n",
       "</style>\n",
       "<table border=\"1\" class=\"dataframe\">\n",
       "  <thead>\n",
       "    <tr style=\"text-align: right;\">\n",
       "      <th></th>\n",
       "      <th>val</th>\n",
       "    </tr>\n",
       "    <tr>\n",
       "      <th>idx</th>\n",
       "      <th></th>\n",
       "    </tr>\n",
       "  </thead>\n",
       "  <tbody>\n",
       "    <tr>\n",
       "      <th>WD</th>\n",
       "      <td>D:\\Projects\\Tools\\APEX-CUTE\\Analysis\\test01\\UA...</td>\n",
       "    </tr>\n",
       "    <tr>\n",
       "      <th>Mode</th>\n",
       "      <td>DREAM</td>\n",
       "    </tr>\n",
       "    <tr>\n",
       "      <th>Likelihood</th>\n",
       "      <td>Gaussian likelihood: MEO</td>\n",
       "    </tr>\n",
       "    <tr>\n",
       "      <th>NumberChains</th>\n",
       "      <td>10</td>\n",
       "    </tr>\n",
       "    <tr>\n",
       "      <th>NumberRuns</th>\n",
       "      <td>1000</td>\n",
       "    </tr>\n",
       "    <tr>\n",
       "      <th>CalibrationStartDate</th>\n",
       "      <td>1/1/2000</td>\n",
       "    </tr>\n",
       "    <tr>\n",
       "      <th>CalibrationEndDate</th>\n",
       "      <td>12/31/2003</td>\n",
       "    </tr>\n",
       "    <tr>\n",
       "      <th>ObservationFile</th>\n",
       "      <td>rch</td>\n",
       "    </tr>\n",
       "    <tr>\n",
       "      <th>ObservationType</th>\n",
       "      <td>Flow(m3/s)</td>\n",
       "    </tr>\n",
       "    <tr>\n",
       "      <th>ReachIDs</th>\n",
       "      <td>2</td>\n",
       "    </tr>\n",
       "    <tr>\n",
       "      <th>TimeStepObs</th>\n",
       "      <td>month</td>\n",
       "    </tr>\n",
       "    <tr>\n",
       "      <th>Version</th>\n",
       "      <td>0.0.0</td>\n",
       "    </tr>\n",
       "  </tbody>\n",
       "</table>\n",
       "</div>"
      ],
      "text/plain": [
       "                                                                    val\n",
       "idx                                                                    \n",
       "WD                    D:\\Projects\\Tools\\APEX-CUTE\\Analysis\\test01\\UA...\n",
       "Mode                                                              DREAM\n",
       "Likelihood                                     Gaussian likelihood: MEO\n",
       "NumberChains                                                         10\n",
       "NumberRuns                                                         1000\n",
       "CalibrationStartDate                                           1/1/2000\n",
       "CalibrationEndDate                                           12/31/2003\n",
       "ObservationFile                                                     rch\n",
       "ObservationType                                              Flow(m3/s)\n",
       "ReachIDs                                                              2\n",
       "TimeStepObs                                                       month\n",
       "Version                                                           0.0.0"
      ]
     },
     "execution_count": 10,
     "metadata": {},
     "output_type": "execute_result"
    }
   ],
   "source": [
    "# read settings from the ua config file\n",
    "info = uam1.read_ua_conf()\n",
    "info.loc[\"ReachIDs\", \"val\"] =2\n",
    "info"
   ]
  },
  {
   "cell_type": "markdown",
   "id": "65129a50",
   "metadata": {},
   "source": [
    "## Run DREAM\n",
    "\n",
    "Okay, let's run this thing. "
   ]
  },
  {
   "cell_type": "code",
   "execution_count": null,
   "id": "8ae68bc7",
   "metadata": {
    "scrolled": true
   },
   "outputs": [],
   "source": [
    "modules.run_dream(info)"
   ]
  },
  {
   "cell_type": "markdown",
   "id": "6bda90a4",
   "metadata": {},
   "source": [
    "## Explore Results\n",
    "The \"apex-ua\" writes lots of usefull information to the `*.csv` file."
   ]
  },
  {
   "cell_type": "code",
   "execution_count": 14,
   "id": "07e27817",
   "metadata": {},
   "outputs": [],
   "source": [
    "# create variable \"dra\" to initiate getResults function\n",
    "dra = analyzer.getResults(info)"
   ]
  },
  {
   "cell_type": "code",
   "execution_count": 15,
   "id": "6fa3ec46",
   "metadata": {},
   "outputs": [
    {
     "ename": "AttributeError",
     "evalue": "'getResults' object has no attribute 'create_sims_pars'",
     "output_type": "error",
     "traceback": [
      "\u001b[1;31m---------------------------------------------------------------------------\u001b[0m",
      "\u001b[1;31mAttributeError\u001b[0m                            Traceback (most recent call last)",
      "Cell \u001b[1;32mIn[15], line 2\u001b[0m\n\u001b[0;32m      1\u001b[0m \u001b[38;5;66;03m# create simulation outputs in an appropriate format\u001b[39;00m\n\u001b[1;32m----> 2\u001b[0m \u001b[43mdra\u001b[49m\u001b[38;5;241;43m.\u001b[39;49m\u001b[43mcreate_sims_pars\u001b[49m()\n",
      "\u001b[1;31mAttributeError\u001b[0m: 'getResults' object has no attribute 'create_sims_pars'"
     ]
    }
   ],
   "source": [
    "# create simulation outputs in an appropriate format\n",
    "dra.create_sims_pars()"
   ]
  },
  {
   "cell_type": "code",
   "execution_count": 16,
   "id": "89337c94",
   "metadata": {},
   "outputs": [],
   "source": [
    "# read parameter information\n",
    "par_df = dra.par_info()"
   ]
  },
  {
   "cell_type": "code",
   "execution_count": null,
   "id": "90e85454",
   "metadata": {},
   "outputs": [],
   "source": [
    "# load all results files as dataframes\n",
    "all_r, sim_r, par_r = analyzer.load_csv_results() "
   ]
  },
  {
   "cell_type": "markdown",
   "id": "5bfa1ce7",
   "metadata": {},
   "source": [
    "### draw parameter"
   ]
  },
  {
   "cell_type": "code",
   "execution_count": null,
   "id": "9a48e04d",
   "metadata": {
    "scrolled": true
   },
   "outputs": [],
   "source": [
    "analyzer.plot_parameter_results(par_df, par_r, fig_h=50)"
   ]
  },
  {
   "cell_type": "code",
   "execution_count": null,
   "id": "cdce3371",
   "metadata": {
    "scrolled": false
   },
   "outputs": [],
   "source": [
    "analyzer.plot_predicitive_uncertainty(sim_r, bestfit=True)"
   ]
  },
  {
   "cell_type": "code",
   "execution_count": null,
   "id": "8eeb52a0",
   "metadata": {},
   "outputs": [],
   "source": []
  }
 ],
 "metadata": {
  "kernelspec": {
   "display_name": "Python 3 (ipykernel)",
   "language": "python",
   "name": "python3"
  },
  "language_info": {
   "codemirror_mode": {
    "name": "ipython",
    "version": 3
   },
   "file_extension": ".py",
   "mimetype": "text/x-python",
   "name": "python",
   "nbconvert_exporter": "python",
   "pygments_lexer": "ipython3",
   "version": "3.10.10"
  }
 },
 "nbformat": 4,
 "nbformat_minor": 5
}
