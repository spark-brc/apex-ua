{
 "cells": [
  {
   "cell_type": "code",
   "execution_count": 1,
   "id": "24304ca8",
   "metadata": {},
   "outputs": [],
   "source": [
    "import os\n",
    "import sys\n",
    "import datetime\n",
    "import pandas as pd"
   ]
  },
  {
   "cell_type": "code",
   "execution_count": 2,
   "id": "59c83805",
   "metadata": {},
   "outputs": [],
   "source": [
    "path = os.path.abspath(os.path.join(os.getcwd(), os.pardir))\n",
    "sys.path.insert(1, path)"
   ]
  },
  {
   "cell_type": "code",
   "execution_count": 4,
   "id": "7a1d89f6",
   "metadata": {},
   "outputs": [],
   "source": [
    "from apexua import handler, modules"
   ]
  },
  {
   "cell_type": "code",
   "execution_count": 5,
   "id": "fb1e96ae",
   "metadata": {},
   "outputs": [],
   "source": [
    "wd = \"d:/Projects/Tools/APEX-CUTE/Analysis/test01/UA_Analysis/\""
   ]
  },
  {
   "cell_type": "code",
   "execution_count": 6,
   "id": "53e20a15",
   "metadata": {},
   "outputs": [],
   "source": [
    "uam1 = handler.uaInit(wd)"
   ]
  },
  {
   "cell_type": "code",
   "execution_count": 7,
   "id": "5b7269ba",
   "metadata": {},
   "outputs": [
    {
     "data": {
      "text/html": [
       "<div>\n",
       "<style scoped>\n",
       "    .dataframe tbody tr th:only-of-type {\n",
       "        vertical-align: middle;\n",
       "    }\n",
       "\n",
       "    .dataframe tbody tr th {\n",
       "        vertical-align: top;\n",
       "    }\n",
       "\n",
       "    .dataframe thead th {\n",
       "        text-align: right;\n",
       "    }\n",
       "</style>\n",
       "<table border=\"1\" class=\"dataframe\">\n",
       "  <thead>\n",
       "    <tr style=\"text-align: right;\">\n",
       "      <th></th>\n",
       "      <th>val</th>\n",
       "    </tr>\n",
       "    <tr>\n",
       "      <th>idx</th>\n",
       "      <th></th>\n",
       "    </tr>\n",
       "  </thead>\n",
       "  <tbody>\n",
       "    <tr>\n",
       "      <th>WD</th>\n",
       "      <td>D:\\Projects\\Tools\\APEX-CUTE\\Analysis\\test01\\UA...</td>\n",
       "    </tr>\n",
       "    <tr>\n",
       "      <th>Mode</th>\n",
       "      <td>DREAM</td>\n",
       "    </tr>\n",
       "    <tr>\n",
       "      <th>Likelihood</th>\n",
       "      <td>Gaussian likelihood: MEO</td>\n",
       "    </tr>\n",
       "    <tr>\n",
       "      <th>NumberChains</th>\n",
       "      <td>10</td>\n",
       "    </tr>\n",
       "    <tr>\n",
       "      <th>NumberRuns</th>\n",
       "      <td>1000</td>\n",
       "    </tr>\n",
       "    <tr>\n",
       "      <th>CalibrationStartDate</th>\n",
       "      <td>1/1/2000</td>\n",
       "    </tr>\n",
       "    <tr>\n",
       "      <th>CalibrationEndDate</th>\n",
       "      <td>12/31/2003</td>\n",
       "    </tr>\n",
       "    <tr>\n",
       "      <th>ObservationFile</th>\n",
       "      <td>rch</td>\n",
       "    </tr>\n",
       "    <tr>\n",
       "      <th>ObservationType</th>\n",
       "      <td>Flow(m3/s)</td>\n",
       "    </tr>\n",
       "    <tr>\n",
       "      <th>ReachIDs</th>\n",
       "      <td>2</td>\n",
       "    </tr>\n",
       "    <tr>\n",
       "      <th>TimeStepObs</th>\n",
       "      <td>month</td>\n",
       "    </tr>\n",
       "    <tr>\n",
       "      <th>Version</th>\n",
       "      <td>0.0.0</td>\n",
       "    </tr>\n",
       "  </tbody>\n",
       "</table>\n",
       "</div>"
      ],
      "text/plain": [
       "                                                                    val\n",
       "idx                                                                    \n",
       "WD                    D:\\Projects\\Tools\\APEX-CUTE\\Analysis\\test01\\UA...\n",
       "Mode                                                              DREAM\n",
       "Likelihood                                     Gaussian likelihood: MEO\n",
       "NumberChains                                                         10\n",
       "NumberRuns                                                         1000\n",
       "CalibrationStartDate                                           1/1/2000\n",
       "CalibrationEndDate                                           12/31/2003\n",
       "ObservationFile                                                     rch\n",
       "ObservationType                                              Flow(m3/s)\n",
       "ReachIDs                                                              2\n",
       "TimeStepObs                                                       month\n",
       "Version                                                           0.0.0"
      ]
     },
     "execution_count": 7,
     "metadata": {},
     "output_type": "execute_result"
    }
   ],
   "source": [
    "info = uam1.read_ua_conf()\n",
    "info.loc[\"ReachIDs\", \"val\"] =2\n",
    "info"
   ]
  },
  {
   "cell_type": "code",
   "execution_count": 8,
   "id": "e5fb7134",
   "metadata": {},
   "outputs": [
    {
     "data": {
      "text/plain": [
       "'D:\\\\Projects\\\\Tools\\\\APEX-CUTE\\\\APEX-UA_git\\\\notebooks'"
      ]
     },
     "execution_count": 8,
     "metadata": {},
     "output_type": "execute_result"
    }
   ],
   "source": [
    "os.getcwd()"
   ]
  },
  {
   "cell_type": "code",
   "execution_count": null,
   "id": "8ae68bc7",
   "metadata": {
    "scrolled": true
   },
   "outputs": [
    {
     "name": "stdout",
     "output_type": "stream",
     "text": [
      "Initializing the  DiffeRential Evolution Adaptive Metropolis (DREAM) algorithm  with  1000  repetitions\n",
      "The objective function will be maximized\n",
      "Starting the DREAM algotrithm with 1000 repetitions...\n",
      "Initialize  10  chain(s)...\n",
      "1 of 1000, maximal objective function=-25518, time remaining: 18:35:48\n",
      "Initialize database...\n",
      "* Appending to database file 'DREAM_apex.csv'.\n",
      "Beginn of Random Walk\n"
     ]
    },
    {
     "name": "stderr",
     "output_type": "stream",
     "text": [
      "D:\\Projects\\Tools\\APEX-CUTE\\APEX-UA_git\\apexua\\likelihoods.py:71: UserWarning: [gaussianLikelihoodHomoHeteroDataError] realized that there are distinct distributed values. We jittered the values but the result can be far away from the truth.\n",
      "  warnings.warn(\n"
     ]
    },
    {
     "name": "stdout",
     "output_type": "stream",
     "text": [
      "11 of 1000, maximal objective function=-869.617, time remaining: 06:09:00\n"
     ]
    },
    {
     "name": "stderr",
     "output_type": "stream",
     "text": [
      "D:\\Projects\\Tools\\APEX-CUTE\\APEX-UA_git\\apexua\\algorithms\\dream_ac.py:388: RuntimeWarning: overflow encountered in exp\n",
      "  logMetropHastRatio = np.exp(\n"
     ]
    },
    {
     "name": "stdout",
     "output_type": "stream",
     "text": [
      "21 of 1000, maximal objective function=-869.617, time remaining: 04:59:22\n",
      "Acceptance rates [%] =100.   0.  50.  50.  50.  50.  50.  50.  50.   0.\n",
      "Convergence rates =2.8708 3.283  3.628  1.9795 3.3775 6.0049 4.4503 5.5322 3.2424 4.1043\n",
      " 3.2884 3.6222 2.0449 9.4265 2.965  3.6957 2.0822 2.5179 4.4462 3.4971\n",
      " 2.3152 2.1878 5.0198 7.9468 3.2955 6.1387 4.9959\n",
      "31 of 1000, maximal objective function=-869.617, time remaining: 04:31:27\n",
      "Acceptance rates [%] =66.67 33.33 33.33 33.33 33.33 33.33 33.33 33.33 33.33  0.  \n",
      "Convergence rates =3.21750e+00 2.04300e+00 3.46020e+00 7.74438e+01 5.05080e+00 6.52516e+01\n",
      " 1.62792e+01         nan 1.65389e+01 6.97510e+00 6.99320e+00 5.93480e+00\n",
      " 2.52870e+00 4.50320e+00 4.04080e+00 1.19851e+01 2.47460e+00 2.12800e-01\n",
      " 2.71300e-01         nan 4.64870e+00 3.86000e-02 3.45810e+00 4.97140e+00\n",
      " 3.14826e+01 2.70550e+00 8.26540e+00\n"
     ]
    },
    {
     "name": "stderr",
     "output_type": "stream",
     "text": [
      "D:\\Projects\\Tools\\APEX-CUTE\\APEX-UA_git\\apexua\\algorithms\\dream_ac.py:238: RuntimeWarning: invalid value encountered in sqrt\n",
      "  R_stat = np.sqrt(\n"
     ]
    },
    {
     "name": "stdout",
     "output_type": "stream",
     "text": [
      "41 of 1000, maximal objective function=-780.301, time remaining: 04:14:53\n",
      "Acceptance rates [%] =50. 25. 50. 25. 50. 25. 25. 25. 25.  0.\n",
      "Convergence rates =3.74480000e+00 2.42410000e+00 4.19610000e+00 1.04473000e+01\n",
      " 6.21450000e+00 7.98557000e+01 1.99166000e+01 5.40989200e+15\n",
      " 2.02394000e+01 8.54000000e+00 8.63240000e+00 7.22330000e+00\n",
      " 3.02270000e+00 5.36940000e+00 3.81730000e+00 1.46683000e+01\n",
      " 3.03550000e+00 5.51207659e+15 4.22710000e+00 9.11888668e+15\n",
      " 6.19458892e+15 4.20501104e+15 4.25860000e+00 3.62770000e+00\n",
      " 3.84970000e+01 3.23500000e+00 9.43600000e+00\n"
     ]
    }
   ],
   "source": [
    "modules.run_dream(info)"
   ]
  },
  {
   "cell_type": "code",
   "execution_count": null,
   "id": "6fa3ec46",
   "metadata": {},
   "outputs": [],
   "source": []
  }
 ],
 "metadata": {
  "kernelspec": {
   "display_name": "Python 3 (ipykernel)",
   "language": "python",
   "name": "python3"
  },
  "language_info": {
   "codemirror_mode": {
    "name": "ipython",
    "version": 3
   },
   "file_extension": ".py",
   "mimetype": "text/x-python",
   "name": "python",
   "nbconvert_exporter": "python",
   "pygments_lexer": "ipython3",
   "version": "3.10.10"
  }
 },
 "nbformat": 4,
 "nbformat_minor": 5
}
