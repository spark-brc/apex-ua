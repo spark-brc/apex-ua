{
 "cells": [
  {
   "cell_type": "markdown",
   "id": "1c184b48",
   "metadata": {},
   "source": [
    "## Import necessary libraries"
   ]
  },
  {
   "cell_type": "code",
   "execution_count": null,
   "id": "24304ca8",
   "metadata": {},
   "outputs": [],
   "source": [
    "import os\n",
    "import sys\n",
    "import datetime\n",
    "import pandas as pd"
   ]
  },
  {
   "cell_type": "markdown",
   "id": "fc5dc332",
   "metadata": {},
   "source": [
    "*Note: The module \"apex-ua\" is not publicly available now, but will be soon.*\n",
    "- So, we need to import it by setting a path to the module folder."
   ]
  },
  {
   "cell_type": "code",
   "execution_count": null,
   "id": "59c83805",
   "metadata": {},
   "outputs": [],
   "source": [
    "path = os.path.abspath(os.path.join(os.getcwd(), os.pardir))\n",
    "sys.path.insert(1, path)"
   ]
  },
  {
   "cell_type": "code",
   "execution_count": null,
   "id": "7a1d89f6",
   "metadata": {},
   "outputs": [],
   "source": [
    "from apexua import handler, modules, analyzer"
   ]
  },
  {
   "cell_type": "markdown",
   "id": "07bed265",
   "metadata": {},
   "source": [
    "## Specify a path to the working directory"
   ]
  },
  {
   "cell_type": "code",
   "execution_count": null,
   "id": "fb1e96ae",
   "metadata": {},
   "outputs": [],
   "source": [
    "# set a path to UA_Analysis folder\n",
    "wd = \"d:/Projects/Tools/APEX-CUTE/Analysis/test01/UA_Analysis/\""
   ]
  },
  {
   "cell_type": "code",
   "execution_count": null,
   "id": "53e20a15",
   "metadata": {},
   "outputs": [],
   "source": [
    "# initiate UA analysis\n",
    "uam1 = handler.uaInit(wd)"
   ]
  },
  {
   "cell_type": "code",
   "execution_count": null,
   "id": "5b7269ba",
   "metadata": {},
   "outputs": [],
   "source": [
    "# read settings from the ua config file\n",
    "info = uam1.read_ua_conf()\n",
    "# info.loc[\"ReachIDs\", \"val\"] =2\n",
    "# info.loc[\"NumberRuns\", \"val\"] =500\n",
    "# info.loc[\"NumberChains\", \"val\"] =10\n",
    "# info.loc[\"WD\", \"val\"] = wd\n",
    "info"
   ]
  },
  {
   "cell_type": "markdown",
   "id": "6310dbe6",
   "metadata": {},
   "source": [
    "## <font color='red'> Initial Run required </font>"
   ]
  },
  {
   "cell_type": "markdown",
   "id": "85e4d615",
   "metadata": {},
   "source": [
    "## Run DREAM\n",
    "\n",
    "Okay, let's run this thing. "
   ]
  },
  {
   "cell_type": "code",
   "execution_count": null,
   "id": "3484fc2a",
   "metadata": {},
   "outputs": [],
   "source": [
    "modules.run_dream(info)"
   ]
  },
  {
   "cell_type": "markdown",
   "id": "1739e351",
   "metadata": {},
   "source": [
    "## Explore Results\n",
    "The \"apex-ua\" writes lots of usefull information to the `*.csv` file."
   ]
  },
  {
   "cell_type": "code",
   "execution_count": null,
   "id": "07e27817",
   "metadata": {},
   "outputs": [],
   "source": [
    "# create variable \"dra\" to initiate getResults function\n",
    "dra = analyzer.getResults(info)"
   ]
  },
  {
   "cell_type": "code",
   "execution_count": null,
   "id": "6fa3ec46",
   "metadata": {},
   "outputs": [],
   "source": [
    "# create simulation outputs in an appropriate format\n",
    "dra.create_sims_pars()"
   ]
  },
  {
   "cell_type": "code",
   "execution_count": null,
   "id": "2c4b0902",
   "metadata": {},
   "outputs": [],
   "source": [
    "# read parameter information\n",
    "par_df = dra.par_info()"
   ]
  },
  {
   "cell_type": "code",
   "execution_count": null,
   "id": "90e85454",
   "metadata": {},
   "outputs": [],
   "source": [
    "# load all results files as dataframes\n",
    "all_r, sim_r, par_r = analyzer.load_csv_results() "
   ]
  },
  {
   "cell_type": "markdown",
   "id": "21e9e1e8",
   "metadata": {},
   "source": [
    "### Parameter uncertainty"
   ]
  },
  {
   "cell_type": "code",
   "execution_count": null,
   "id": "9a48e04d",
   "metadata": {
    "scrolled": false
   },
   "outputs": [],
   "source": [
    "analyzer.plot_parameter_results(par_df, par_r, fig_h=20)"
   ]
  },
  {
   "cell_type": "markdown",
   "id": "94a8839d",
   "metadata": {},
   "source": [
    "### Predictive uncertainty"
   ]
  },
  {
   "cell_type": "code",
   "execution_count": null,
   "id": "cdce3371",
   "metadata": {
    "scrolled": false
   },
   "outputs": [],
   "source": [
    "analyzer.plot_predicitive_uncertainty(sim_r, bestfit=True, dot=True)"
   ]
  },
  {
   "cell_type": "markdown",
   "id": "bf4672e5",
   "metadata": {},
   "source": [
    "###  Convergence diagnostic\n",
    "- The Gelman and Rubin (1992) $\\hat{R}$ statistics for the parameters indicates the convergence rates of the parameters."
   ]
  },
  {
   "cell_type": "code",
   "execution_count": null,
   "id": "3a89210a",
   "metadata": {},
   "outputs": [],
   "source": [
    "analyzer.plot_gelman_rubin()"
   ]
  },
  {
   "cell_type": "markdown",
   "id": "60786b7d",
   "metadata": {},
   "source": [
    "## Run FAST in parallel processing"
   ]
  },
  {
   "cell_type": "code",
   "execution_count": null,
   "id": "1d5e9888",
   "metadata": {},
   "outputs": [],
   "source": [
    "modules.run_fast(info)"
   ]
  },
  {
   "cell_type": "code",
   "execution_count": null,
   "id": "94a57b1e",
   "metadata": {},
   "outputs": [],
   "source": [
    "sa_result = analyzer.load_raw_results(\"FAST_apex\")"
   ]
  },
  {
   "cell_type": "code",
   "execution_count": null,
   "id": "8b9dd4c4",
   "metadata": {},
   "outputs": [],
   "source": [
    "analyzer.plot_fast_sensitivity(sa_result, number_of_sensitiv_pars=5)"
   ]
  },
  {
   "cell_type": "code",
   "execution_count": null,
   "id": "b5f08ebe",
   "metadata": {},
   "outputs": [],
   "source": []
  }
 ],
 "metadata": {
  "kernelspec": {
   "display_name": "Python 3 (ipykernel)",
   "language": "python",
   "name": "python3"
  },
  "language_info": {
   "codemirror_mode": {
    "name": "ipython",
    "version": 3
   },
   "file_extension": ".py",
   "mimetype": "text/x-python",
   "name": "python",
   "nbconvert_exporter": "python",
   "pygments_lexer": "ipython3",
   "version": "3.10.10"
  }
 },
 "nbformat": 4,
 "nbformat_minor": 5
}
