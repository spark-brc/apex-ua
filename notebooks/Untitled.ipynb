{
 "cells": [
  {
   "cell_type": "code",
   "execution_count": 1,
   "id": "038a5951",
   "metadata": {},
   "outputs": [],
   "source": [
    "import os\n",
    "import sys"
   ]
  },
  {
   "cell_type": "code",
   "execution_count": 2,
   "id": "31f4dac4",
   "metadata": {},
   "outputs": [],
   "source": [
    "sys.path.append(os.path.join(\"..\", \"dependencies\"))"
   ]
  },
  {
   "cell_type": "code",
   "execution_count": 7,
   "id": "ab23e5a4",
   "metadata": {},
   "outputs": [
    {
     "ename": "ModuleNotFoundError",
     "evalue": "No module named 'likelihoods'",
     "output_type": "error",
     "traceback": [
      "\u001b[1;31m---------------------------------------------------------------------------\u001b[0m",
      "\u001b[1;31mModuleNotFoundError\u001b[0m                       Traceback (most recent call last)",
      "Cell \u001b[1;32mIn[7], line 1\u001b[0m\n\u001b[1;32m----> 1\u001b[0m \u001b[38;5;28;01mfrom\u001b[39;00m \u001b[38;5;21;01mapexua\u001b[39;00m \u001b[38;5;28;01mimport\u001b[39;00m handler\n",
      "File \u001b[1;32mD:\\Projects\\Tools\\APEX-CUTE\\APEX-UA_git\\notebooks\\..\\dependencies\\apexua\\handler.py:4\u001b[0m\n\u001b[0;32m      2\u001b[0m \u001b[38;5;28;01mimport\u001b[39;00m \u001b[38;5;21;01mpandas\u001b[39;00m \u001b[38;5;28;01mas\u001b[39;00m \u001b[38;5;21;01mpd\u001b[39;00m\n\u001b[0;32m      3\u001b[0m \u001b[38;5;28;01mimport\u001b[39;00m \u001b[38;5;21;01mshutil\u001b[39;00m\n\u001b[1;32m----> 4\u001b[0m \u001b[38;5;28;01mfrom\u001b[39;00m \u001b[38;5;21;01mlikelihoods\u001b[39;00m \u001b[38;5;28;01mimport\u001b[39;00m (\n\u001b[0;32m      5\u001b[0m                             gaussianLikelihoodMeasErrorOut, gaussianLikelihoodHomoHeteroDataError, LikelihoodAR1WithC,\n\u001b[0;32m      6\u001b[0m                             LikelihoodAR1NoC, generalizedLikelihoodFunction, LaplacianLikelihood, SkewedStudentLikelihoodHomoscedastic,\n\u001b[0;32m      7\u001b[0m                             SkewedStudentLikelihoodHeteroscedastic, SkewedStudentLikelihoodHeteroscedasticAdvancedARModel,\n\u001b[0;32m      8\u001b[0m                             NoisyABCGaussianLikelihood, ABCBoxcarLikelihood, LimitsOfAcceptability, InverseErrorVarianceShapingFactor,\n\u001b[0;32m      9\u001b[0m                             NashSutcliffeEfficiencyShapingFactor, ExponentialTransformErrVarShapingFactor, sumOfAbsoluteErrorResiduals\n\u001b[0;32m     10\u001b[0m \n\u001b[0;32m     11\u001b[0m )\n\u001b[0;32m     12\u001b[0m \u001b[38;5;28;01mimport\u001b[39;00m \u001b[38;5;21;01mtime\u001b[39;00m\n\u001b[0;32m     13\u001b[0m \u001b[38;5;28;01mimport\u001b[39;00m \u001b[38;5;21;01msubprocess\u001b[39;00m\n",
      "\u001b[1;31mModuleNotFoundError\u001b[0m: No module named 'likelihoods'"
     ]
    }
   ],
   "source": [
    "from apexua import handler"
   ]
  },
  {
   "cell_type": "code",
   "execution_count": null,
   "id": "b4cc1036",
   "metadata": {},
   "outputs": [],
   "source": [
    "wd = \"d:/Projects/Tools/APEX-CUTE/Analysis/test01/UA_Analysis/\""
   ]
  },
  {
   "cell_type": "code",
   "execution_count": 6,
   "id": "60fd03d0",
   "metadata": {},
   "outputs": [
    {
     "ename": "AttributeError",
     "evalue": "module 'apexua' has no attribute 'uaConf'",
     "output_type": "error",
     "traceback": [
      "\u001b[1;31m---------------------------------------------------------------------------\u001b[0m",
      "\u001b[1;31mAttributeError\u001b[0m                            Traceback (most recent call last)",
      "Cell \u001b[1;32mIn[6], line 1\u001b[0m\n\u001b[1;32m----> 1\u001b[0m uam1 \u001b[38;5;241m=\u001b[39m \u001b[43mapexua\u001b[49m\u001b[38;5;241;43m.\u001b[39;49m\u001b[43muaConf\u001b[49m(wd)\n",
      "\u001b[1;31mAttributeError\u001b[0m: module 'apexua' has no attribute 'uaConf'"
     ]
    }
   ],
   "source": [
    "uam1 = apexua.uaConf(wd)"
   ]
  },
  {
   "cell_type": "code",
   "execution_count": null,
   "id": "5a40dcf8",
   "metadata": {},
   "outputs": [],
   "source": []
  }
 ],
 "metadata": {
  "kernelspec": {
   "display_name": "Python 3 (ipykernel)",
   "language": "python",
   "name": "python3"
  },
  "language_info": {
   "codemirror_mode": {
    "name": "ipython",
    "version": 3
   },
   "file_extension": ".py",
   "mimetype": "text/x-python",
   "name": "python",
   "nbconvert_exporter": "python",
   "pygments_lexer": "ipython3",
   "version": "3.10.10"
  }
 },
 "nbformat": 4,
 "nbformat_minor": 5
}
