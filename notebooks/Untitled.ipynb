{
 "cells": [
  {
   "cell_type": "code",
   "execution_count": 1,
   "id": "24304ca8",
   "metadata": {},
   "outputs": [],
   "source": [
    "import os\n",
    "import sys\n",
    "import datetime\n",
    "import pandas as pd"
   ]
  },
  {
   "cell_type": "code",
   "execution_count": 2,
   "id": "59c83805",
   "metadata": {},
   "outputs": [],
   "source": [
    "path = os.path.abspath(os.path.join(os.getcwd(), os.pardir))\n",
    "sys.path.insert(1, path)"
   ]
  },
  {
   "cell_type": "code",
   "execution_count": 3,
   "id": "9ab68e9a",
   "metadata": {},
   "outputs": [
    {
     "data": {
      "text/plain": [
       "'D:\\\\Projects\\\\Tools\\\\APEX-CUTE\\\\APEX-UA_git'"
      ]
     },
     "execution_count": 3,
     "metadata": {},
     "output_type": "execute_result"
    }
   ],
   "source": [
    "path"
   ]
  },
  {
   "cell_type": "code",
   "execution_count": 4,
   "id": "7a1d89f6",
   "metadata": {},
   "outputs": [],
   "source": [
    "from apexua import handler, modules"
   ]
  },
  {
   "cell_type": "code",
   "execution_count": 5,
   "id": "fb1e96ae",
   "metadata": {},
   "outputs": [],
   "source": [
    "wd = \"d:/Projects/Tools/APEX-CUTE/Analysis/test01/UA_Analysis/\""
   ]
  },
  {
   "cell_type": "code",
   "execution_count": 6,
   "id": "53e20a15",
   "metadata": {},
   "outputs": [],
   "source": [
    "uam1 = handler.uaInit(wd)"
   ]
  },
  {
   "cell_type": "code",
   "execution_count": 7,
   "id": "5b7269ba",
   "metadata": {},
   "outputs": [
    {
     "data": {
      "text/html": [
       "<div>\n",
       "<style scoped>\n",
       "    .dataframe tbody tr th:only-of-type {\n",
       "        vertical-align: middle;\n",
       "    }\n",
       "\n",
       "    .dataframe tbody tr th {\n",
       "        vertical-align: top;\n",
       "    }\n",
       "\n",
       "    .dataframe thead th {\n",
       "        text-align: right;\n",
       "    }\n",
       "</style>\n",
       "<table border=\"1\" class=\"dataframe\">\n",
       "  <thead>\n",
       "    <tr style=\"text-align: right;\">\n",
       "      <th></th>\n",
       "      <th>val</th>\n",
       "    </tr>\n",
       "    <tr>\n",
       "      <th>idx</th>\n",
       "      <th></th>\n",
       "    </tr>\n",
       "  </thead>\n",
       "  <tbody>\n",
       "    <tr>\n",
       "      <th>WD</th>\n",
       "      <td>D:\\Projects\\Tools\\APEX-CUTE\\Analysis\\test01\\UA...</td>\n",
       "    </tr>\n",
       "    <tr>\n",
       "      <th>Mode</th>\n",
       "      <td>DREAM</td>\n",
       "    </tr>\n",
       "    <tr>\n",
       "      <th>Likelihood</th>\n",
       "      <td>Gaussian likelihood: MEO</td>\n",
       "    </tr>\n",
       "    <tr>\n",
       "      <th>NumberChains</th>\n",
       "      <td>10</td>\n",
       "    </tr>\n",
       "    <tr>\n",
       "      <th>NumberRuns</th>\n",
       "      <td>1000</td>\n",
       "    </tr>\n",
       "    <tr>\n",
       "      <th>CalibrationStartDate</th>\n",
       "      <td>1/1/2000</td>\n",
       "    </tr>\n",
       "    <tr>\n",
       "      <th>CalibrationEndDate</th>\n",
       "      <td>12/31/2003</td>\n",
       "    </tr>\n",
       "    <tr>\n",
       "      <th>ObservationFile</th>\n",
       "      <td>rch</td>\n",
       "    </tr>\n",
       "    <tr>\n",
       "      <th>ObservationType</th>\n",
       "      <td>Flow(m3/s)</td>\n",
       "    </tr>\n",
       "    <tr>\n",
       "      <th>ReachIDs</th>\n",
       "      <td>2</td>\n",
       "    </tr>\n",
       "    <tr>\n",
       "      <th>TimeStepObs</th>\n",
       "      <td>month</td>\n",
       "    </tr>\n",
       "    <tr>\n",
       "      <th>Version</th>\n",
       "      <td>0.0.0</td>\n",
       "    </tr>\n",
       "  </tbody>\n",
       "</table>\n",
       "</div>"
      ],
      "text/plain": [
       "                                                                    val\n",
       "idx                                                                    \n",
       "WD                    D:\\Projects\\Tools\\APEX-CUTE\\Analysis\\test01\\UA...\n",
       "Mode                                                              DREAM\n",
       "Likelihood                                     Gaussian likelihood: MEO\n",
       "NumberChains                                                         10\n",
       "NumberRuns                                                         1000\n",
       "CalibrationStartDate                                           1/1/2000\n",
       "CalibrationEndDate                                           12/31/2003\n",
       "ObservationFile                                                     rch\n",
       "ObservationType                                              Flow(m3/s)\n",
       "ReachIDs                                                              2\n",
       "TimeStepObs                                                       month\n",
       "Version                                                           0.0.0"
      ]
     },
     "execution_count": 7,
     "metadata": {},
     "output_type": "execute_result"
    }
   ],
   "source": [
    "info = uam1.read_ua_conf()\n",
    "info.loc[\"ReachIDs\", \"val\"] =2\n",
    "info"
   ]
  },
  {
   "cell_type": "code",
   "execution_count": 8,
   "id": "e5fb7134",
   "metadata": {},
   "outputs": [
    {
     "data": {
      "text/plain": [
       "'D:\\\\Projects\\\\Tools\\\\APEX-CUTE\\\\APEX-UA_git\\\\notebooks'"
      ]
     },
     "execution_count": 8,
     "metadata": {},
     "output_type": "execute_result"
    }
   ],
   "source": [
    "os.getcwd()"
   ]
  },
  {
   "cell_type": "code",
   "execution_count": null,
   "id": "8ae68bc7",
   "metadata": {},
   "outputs": [
    {
     "name": "stdout",
     "output_type": "stream",
     "text": [
      "Initializing the  DiffeRential Evolution Adaptive Metropolis (DREAM) algorithm  with  1000  repetitions\n",
      "The objective function will be maximized\n",
      "Starting the DREAM algotrithm with 1000 repetitions...\n",
      "Initialize  10  chain(s)...\n"
     ]
    }
   ],
   "source": [
    "modules.run_dream(info)"
   ]
  },
  {
   "cell_type": "code",
   "execution_count": 8,
   "id": "7ca8a3a6",
   "metadata": {},
   "outputs": [
    {
     "ename": "NameError",
     "evalue": "name 'ua_set_info' is not defined",
     "output_type": "error",
     "traceback": [
      "\u001b[1;31m---------------------------------------------------------------------------\u001b[0m",
      "\u001b[1;31mNameError\u001b[0m                                 Traceback (most recent call last)",
      "Cell \u001b[1;32mIn[8], line 1\u001b[0m\n\u001b[1;32m----> 1\u001b[0m info \u001b[38;5;241m=\u001b[39m \u001b[43mua_set_info\u001b[49m()\n",
      "\u001b[1;31mNameError\u001b[0m: name 'ua_set_info' is not defined"
     ]
    }
   ],
   "source": [
    "info = ua_set_info()"
   ]
  },
  {
   "cell_type": "code",
   "execution_count": null,
   "id": "f86802c6",
   "metadata": {},
   "outputs": [],
   "source": []
  },
  {
   "cell_type": "code",
   "execution_count": 27,
   "id": "44e7f65a",
   "metadata": {},
   "outputs": [],
   "source": [
    "rch_file = \"SITE2.RCH\"\n",
    "stdate_, eddate_, sim_ts = get_start_end_step()\n",
    "channels = [info.loc[\"ReachIDs\",\"val\"]]\n",
    "# FIXME: import APEXCON.read() causes error\n",
    "start_day = stdate_\n",
    "cali_start_day = info.loc[\"CalibrationStartDate\",\"val\"]\n",
    "cali_end_day = info.loc[\"CalibrationEndDate\",\"val\"]\n",
    "for i in channels:\n",
    "    sim_stf = pd.read_csv(\n",
    "                    rch_file,\n",
    "                    delim_whitespace=True,\n",
    "                    skiprows=9,\n",
    "                    usecols=[0, 1, 8],\n",
    "                    names=[\"idx\", \"sub\", \"str_sim\"],\n",
    "                    index_col=0)\n",
    "    sim_stf = sim_stf.loc[\"REACH\"]\n",
    "    sim_stf_f = sim_stf.loc[sim_stf[\"sub\"] == int(i)]\n",
    "    sim_stf_f = sim_stf_f.drop(['sub'], axis=1)\n",
    "    sim_stf_f.index = pd.date_range(start_day, periods=len(sim_stf_f.str_sim))\n",
    "    sim_stf_f = sim_stf_f[cali_start_day:cali_end_day]\n"
   ]
  },
  {
   "cell_type": "code",
   "execution_count": 28,
   "id": "3e13c5b4",
   "metadata": {},
   "outputs": [
    {
     "data": {
      "text/html": [
       "<div>\n",
       "<style scoped>\n",
       "    .dataframe tbody tr th:only-of-type {\n",
       "        vertical-align: middle;\n",
       "    }\n",
       "\n",
       "    .dataframe tbody tr th {\n",
       "        vertical-align: top;\n",
       "    }\n",
       "\n",
       "    .dataframe thead th {\n",
       "        text-align: right;\n",
       "    }\n",
       "</style>\n",
       "<table border=\"1\" class=\"dataframe\">\n",
       "  <thead>\n",
       "    <tr style=\"text-align: right;\">\n",
       "      <th></th>\n",
       "      <th>str_sim</th>\n",
       "    </tr>\n",
       "  </thead>\n",
       "  <tbody>\n",
       "    <tr>\n",
       "      <th>2000-01-01</th>\n",
       "      <td>1.293000e-08</td>\n",
       "    </tr>\n",
       "    <tr>\n",
       "      <th>2000-01-02</th>\n",
       "      <td>5.279000e-09</td>\n",
       "    </tr>\n",
       "    <tr>\n",
       "      <th>2000-01-03</th>\n",
       "      <td>1.951000e-09</td>\n",
       "    </tr>\n",
       "    <tr>\n",
       "      <th>2000-01-04</th>\n",
       "      <td>7.822000e-10</td>\n",
       "    </tr>\n",
       "    <tr>\n",
       "      <th>2000-01-05</th>\n",
       "      <td>3.076000e-10</td>\n",
       "    </tr>\n",
       "    <tr>\n",
       "      <th>...</th>\n",
       "      <td>...</td>\n",
       "    </tr>\n",
       "    <tr>\n",
       "      <th>2003-12-27</th>\n",
       "      <td>0.000000e+00</td>\n",
       "    </tr>\n",
       "    <tr>\n",
       "      <th>2003-12-28</th>\n",
       "      <td>0.000000e+00</td>\n",
       "    </tr>\n",
       "    <tr>\n",
       "      <th>2003-12-29</th>\n",
       "      <td>0.000000e+00</td>\n",
       "    </tr>\n",
       "    <tr>\n",
       "      <th>2003-12-30</th>\n",
       "      <td>0.000000e+00</td>\n",
       "    </tr>\n",
       "    <tr>\n",
       "      <th>2003-12-31</th>\n",
       "      <td>0.000000e+00</td>\n",
       "    </tr>\n",
       "  </tbody>\n",
       "</table>\n",
       "<p>1461 rows × 1 columns</p>\n",
       "</div>"
      ],
      "text/plain": [
       "                 str_sim\n",
       "2000-01-01  1.293000e-08\n",
       "2000-01-02  5.279000e-09\n",
       "2000-01-03  1.951000e-09\n",
       "2000-01-04  7.822000e-10\n",
       "2000-01-05  3.076000e-10\n",
       "...                  ...\n",
       "2003-12-27  0.000000e+00\n",
       "2003-12-28  0.000000e+00\n",
       "2003-12-29  0.000000e+00\n",
       "2003-12-30  0.000000e+00\n",
       "2003-12-31  0.000000e+00\n",
       "\n",
       "[1461 rows x 1 columns]"
      ]
     },
     "execution_count": 28,
     "metadata": {},
     "output_type": "execute_result"
    }
   ],
   "source": [
    "sim_stf_f"
   ]
  },
  {
   "cell_type": "code",
   "execution_count": 15,
   "id": "a2c14012",
   "metadata": {},
   "outputs": [
    {
     "data": {
      "text/plain": [
       "'D:\\\\Projects\\\\Tools\\\\APEX-CUTE\\\\Analysis\\\\test01\\\\UA_Analysis'"
      ]
     },
     "execution_count": 15,
     "metadata": {},
     "output_type": "execute_result"
    }
   ],
   "source": [
    "os.getcwd()"
   ]
  },
  {
   "cell_type": "code",
   "execution_count": 17,
   "id": "ef593ba1",
   "metadata": {},
   "outputs": [],
   "source": [
    "os.chdir(info.loc[\"WD\", \"val\"])"
   ]
  },
  {
   "cell_type": "code",
   "execution_count": 29,
   "id": "6512baf2",
   "metadata": {},
   "outputs": [],
   "source": [
    "def get_start_end_step():\n",
    "    os.chdir(os.path.join(info.loc[\"WD\", \"val\"], info.loc[\"Mode\",\"val\"]))\n",
    "    if os.path.isfile(\"APEXCONT.DAT\"):\n",
    "        with open('APEXCONT.DAT', \"r\") as f:\n",
    "            data = [x.strip().split() for x in f if x.strip()]\n",
    "        numyr = int(data[0][0])\n",
    "        styr = int(data[0][1])\n",
    "        stmon = int(data[0][2])\n",
    "        stday = int(data[0][3])\n",
    "        ptcode = int(data[0][4])\n",
    "        edyr = styr + numyr -1\n",
    "        stdate = datetime.datetime(styr, stmon, 1) + datetime.timedelta(stday - 1)\n",
    "        eddate = datetime.datetime(edyr, 12, 31)\n",
    "        stdate_ = stdate.strftime(\"%m/%d/%Y\")\n",
    "        eddate_ = eddate.strftime(\"%m/%d/%Y\")\n",
    "        return stdate_, eddate_, ptcode"
   ]
  },
  {
   "cell_type": "code",
   "execution_count": 30,
   "id": "a15980ff",
   "metadata": {},
   "outputs": [
    {
     "ename": "TypeError",
     "evalue": "cannot unpack non-iterable NoneType object",
     "output_type": "error",
     "traceback": [
      "\u001b[1;31m---------------------------------------------------------------------------\u001b[0m",
      "\u001b[1;31mTypeError\u001b[0m                                 Traceback (most recent call last)",
      "Cell \u001b[1;32mIn[30], line 1\u001b[0m\n\u001b[1;32m----> 1\u001b[0m a, b, c \u001b[38;5;241m=\u001b[39m get_start_end_step()\n",
      "\u001b[1;31mTypeError\u001b[0m: cannot unpack non-iterable NoneType object"
     ]
    }
   ],
   "source": [
    "a, b, c = get_start_end_step()"
   ]
  },
  {
   "cell_type": "code",
   "execution_count": 48,
   "id": "f40dd22e",
   "metadata": {},
   "outputs": [
    {
     "data": {
      "text/plain": [
       "'D:\\\\Projects\\\\Tools\\\\APEX-CUTE\\\\Analysis\\\\test01\\\\UA_Analysis\\\\DREAM'"
      ]
     },
     "execution_count": 48,
     "metadata": {},
     "output_type": "execute_result"
    }
   ],
   "source": [
    "os.getcwd()"
   ]
  },
  {
   "cell_type": "code",
   "execution_count": 49,
   "id": "f05be566",
   "metadata": {},
   "outputs": [
    {
     "ename": "FileNotFoundError",
     "evalue": "[Errno 2] No such file or directory: 'APEXCONT.DAT'",
     "output_type": "error",
     "traceback": [
      "\u001b[1;31m---------------------------------------------------------------------------\u001b[0m",
      "\u001b[1;31mFileNotFoundError\u001b[0m                         Traceback (most recent call last)",
      "Cell \u001b[1;32mIn[49], line 3\u001b[0m\n\u001b[0;32m      1\u001b[0m \u001b[38;5;66;03m# os.chdir(os.path.join(info.loc[\"WD\", \"val\"], info.loc[\"Mode\",\"val\"]))\u001b[39;00m\n\u001b[0;32m      2\u001b[0m \u001b[38;5;66;03m# if os.path.isfile(\"APEXCONT.DAT\"):\u001b[39;00m\n\u001b[1;32m----> 3\u001b[0m \u001b[38;5;28;01mwith\u001b[39;00m \u001b[38;5;28;43mopen\u001b[39;49m\u001b[43m(\u001b[49m\u001b[38;5;124;43m'\u001b[39;49m\u001b[38;5;124;43mAPEXCONT.DAT\u001b[39;49m\u001b[38;5;124;43m'\u001b[39;49m\u001b[43m,\u001b[49m\u001b[43m \u001b[49m\u001b[38;5;124;43m\"\u001b[39;49m\u001b[38;5;124;43mr\u001b[39;49m\u001b[38;5;124;43m\"\u001b[39;49m\u001b[43m)\u001b[49m \u001b[38;5;28;01mas\u001b[39;00m f:\n\u001b[0;32m      4\u001b[0m     data \u001b[38;5;241m=\u001b[39m [x\u001b[38;5;241m.\u001b[39mstrip()\u001b[38;5;241m.\u001b[39msplit() \u001b[38;5;28;01mfor\u001b[39;00m x \u001b[38;5;129;01min\u001b[39;00m f \u001b[38;5;28;01mif\u001b[39;00m x\u001b[38;5;241m.\u001b[39mstrip()]\n\u001b[0;32m      5\u001b[0m numyr \u001b[38;5;241m=\u001b[39m \u001b[38;5;28mint\u001b[39m(data[\u001b[38;5;241m0\u001b[39m][\u001b[38;5;241m0\u001b[39m])\n",
      "File \u001b[1;32m~\\Miniconda3\\envs\\apex-ua\\lib\\site-packages\\IPython\\core\\interactiveshell.py:284\u001b[0m, in \u001b[0;36m_modified_open\u001b[1;34m(file, *args, **kwargs)\u001b[0m\n\u001b[0;32m    277\u001b[0m \u001b[38;5;28;01mif\u001b[39;00m file \u001b[38;5;129;01min\u001b[39;00m {\u001b[38;5;241m0\u001b[39m, \u001b[38;5;241m1\u001b[39m, \u001b[38;5;241m2\u001b[39m}:\n\u001b[0;32m    278\u001b[0m     \u001b[38;5;28;01mraise\u001b[39;00m \u001b[38;5;167;01mValueError\u001b[39;00m(\n\u001b[0;32m    279\u001b[0m         \u001b[38;5;124mf\u001b[39m\u001b[38;5;124m\"\u001b[39m\u001b[38;5;124mIPython won\u001b[39m\u001b[38;5;124m'\u001b[39m\u001b[38;5;124mt let you open fd=\u001b[39m\u001b[38;5;132;01m{\u001b[39;00mfile\u001b[38;5;132;01m}\u001b[39;00m\u001b[38;5;124m by default \u001b[39m\u001b[38;5;124m\"\u001b[39m\n\u001b[0;32m    280\u001b[0m         \u001b[38;5;124m\"\u001b[39m\u001b[38;5;124mas it is likely to crash IPython. If you know what you are doing, \u001b[39m\u001b[38;5;124m\"\u001b[39m\n\u001b[0;32m    281\u001b[0m         \u001b[38;5;124m\"\u001b[39m\u001b[38;5;124myou can use builtins\u001b[39m\u001b[38;5;124m'\u001b[39m\u001b[38;5;124m open.\u001b[39m\u001b[38;5;124m\"\u001b[39m\n\u001b[0;32m    282\u001b[0m     )\n\u001b[1;32m--> 284\u001b[0m \u001b[38;5;28;01mreturn\u001b[39;00m io_open(file, \u001b[38;5;241m*\u001b[39margs, \u001b[38;5;241m*\u001b[39m\u001b[38;5;241m*\u001b[39mkwargs)\n",
      "\u001b[1;31mFileNotFoundError\u001b[0m: [Errno 2] No such file or directory: 'APEXCONT.DAT'"
     ]
    }
   ],
   "source": [
    "# os.chdir(os.path.join(info.loc[\"WD\", \"val\"], info.loc[\"Mode\",\"val\"]))\n",
    "# if os.path.isfile(\"APEXCONT.DAT\"):\n",
    "with open('APEXCONT.DAT', \"r\") as f:\n",
    "    data = [x.strip().split() for x in f if x.strip()]\n",
    "numyr = int(data[0][0])\n",
    "styr = int(data[0][1])\n",
    "stmon = int(data[0][2])\n",
    "stday = int(data[0][3])\n",
    "ptcode = int(data[0][4])\n",
    "edyr = styr + numyr -1\n",
    "stdate = datetime.datetime(styr, stmon, 1) + datetime.timedelta(stday - 1)\n",
    "eddate = datetime.datetime(edyr, 12, 31)\n",
    "stdate_ = stdate.strftime(\"%m/%d/%Y\")\n",
    "eddate_ = eddate.strftime(\"%m/%d/%Y\")"
   ]
  },
  {
   "cell_type": "code",
   "execution_count": 43,
   "id": "7bc12dd9",
   "metadata": {},
   "outputs": [
    {
     "data": {
      "text/plain": [
       "'12/31/2009'"
      ]
     },
     "execution_count": 43,
     "metadata": {},
     "output_type": "execute_result"
    }
   ],
   "source": [
    "eddate_"
   ]
  },
  {
   "cell_type": "code",
   "execution_count": 44,
   "id": "f94cd6e1",
   "metadata": {},
   "outputs": [
    {
     "data": {
      "text/plain": [
       "'01/01/1998'"
      ]
     },
     "execution_count": 44,
     "metadata": {},
     "output_type": "execute_result"
    }
   ],
   "source": [
    "stdate_"
   ]
  },
  {
   "cell_type": "code",
   "execution_count": 45,
   "id": "dcbfe088",
   "metadata": {},
   "outputs": [
    {
     "ename": "NameError",
     "evalue": "name 'ptcode' is not defined",
     "output_type": "error",
     "traceback": [
      "\u001b[1;31m---------------------------------------------------------------------------\u001b[0m",
      "\u001b[1;31mNameError\u001b[0m                                 Traceback (most recent call last)",
      "Cell \u001b[1;32mIn[45], line 1\u001b[0m\n\u001b[1;32m----> 1\u001b[0m \u001b[43mptcode\u001b[49m\n",
      "\u001b[1;31mNameError\u001b[0m: name 'ptcode' is not defined"
     ]
    }
   ],
   "source": [
    "ptcode"
   ]
  },
  {
   "cell_type": "code",
   "execution_count": 46,
   "id": "d7e610f7",
   "metadata": {},
   "outputs": [
    {
     "ename": "NameError",
     "evalue": "name 'data' is not defined",
     "output_type": "error",
     "traceback": [
      "\u001b[1;31m---------------------------------------------------------------------------\u001b[0m",
      "\u001b[1;31mNameError\u001b[0m                                 Traceback (most recent call last)",
      "Cell \u001b[1;32mIn[46], line 1\u001b[0m\n\u001b[1;32m----> 1\u001b[0m \u001b[43mdata\u001b[49m\n",
      "\u001b[1;31mNameError\u001b[0m: name 'data' is not defined"
     ]
    }
   ],
   "source": [
    "data"
   ]
  },
  {
   "cell_type": "code",
   "execution_count": null,
   "id": "6fa3ec46",
   "metadata": {},
   "outputs": [],
   "source": []
  }
 ],
 "metadata": {
  "kernelspec": {
   "display_name": "Python 3 (ipykernel)",
   "language": "python",
   "name": "python3"
  },
  "language_info": {
   "codemirror_mode": {
    "name": "ipython",
    "version": 3
   },
   "file_extension": ".py",
   "mimetype": "text/x-python",
   "name": "python",
   "nbconvert_exporter": "python",
   "pygments_lexer": "ipython3",
   "version": "3.10.10"
  }
 },
 "nbformat": 4,
 "nbformat_minor": 5
}
